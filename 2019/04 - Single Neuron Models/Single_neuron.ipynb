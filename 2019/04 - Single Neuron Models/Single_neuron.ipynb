{
 "cells": [
  {
   "cell_type": "markdown",
   "metadata": {},
   "source": [
    "<h1><center>Introduction to Computational Neuroscience</center></h1>\n",
    "<h1><center> Practice IV: Single Neuron Models </center></h1>\n",
    "<center>Aqeel Labash, Daniel Majoral, Raul Vicente</center>\n",
    "\n",
    "### Important:\n",
    "Make sure that you saved your ipynb file correctly to avoid loss of information. Please submit this **ipynb** file only (unless you have extra files then zip this file with the extra ones). Everything should be included in this file questions, answers, codes, plots, and comments about your solutions."
   ]
  },
  {
   "cell_type": "markdown",
   "metadata": {},
   "source": [
    "My Student ID is: <font color='green'>[YOUR ANSWER]</font> and it took me approximately: <font color='green'>[YOUR ANSWER]</font> hours to complete the home work.\n",
    "\n",
    "The data of how long it took you to complete the home work will help us to improve the home works to be balanced."
   ]
  },
  {
   "cell_type": "markdown",
   "metadata": {},
   "source": [
    "## 1.Introduction\n",
    "In this session we will have a brief look on three different computational models of a neuron: McCulloch-Pitts, Intergrate-and-Fire and Hodgkin-Huxley."
   ]
  },
  {
   "cell_type": "markdown",
   "metadata": {},
   "source": [
    "***\n",
    "## Exercise 1: Logic gates (1)\n",
    "On the lecture we have seen how to construct `AND`, `OR` and `NOT` logic gates using the the McCulloch-Pitts model of a neuron. Remember that:\n",
    "\n",
    "```\n",
    " if sum(w.*x) <0, output is 0\n",
    " if sum(w.*x)>=0, output is 1 (notice that 0 is included)\n",
    "```\n",
    "\n",
    "**Your task is** to construct more logical operations using MP neurons. Please construct the following two gates (create a function with fixed weights that take input $x,y$ and output $O$ which represent the required function):\n",
    "1. NAND\n"
   ]
  },
  {
   "cell_type": "code",
   "execution_count": null,
   "metadata": {},
   "outputs": [],
   "source": [
    "x = [1,0,1,0]\n",
    "y = [0,0,1,1]\n",
    "def NAND(x,y):\n",
    "    ################################\n",
    "    ##### YOUR CODE STARTS HERE ####\n",
    "    assert False,'function not implemented yet'\n",
    "    \n",
    "    ##### YOUR CODE ENDS HERE  #####\n",
    "    ################################\n",
    "    return results\n",
    "\n",
    "print(NAND(x,y))"
   ]
  },
  {
   "cell_type": "markdown",
   "metadata": {},
   "source": [
    "2. XOR\n",
    "\n",
    "**HINT 1:** For the `XOR` gate you will need more than one neuron.\n",
    "\n",
    "**HINT 2:** Same input can go simultaneously to several neurons (and with different weights).\n",
    "\n",
    "**HINT 3:** You can see how `XOR`,`NAND` behave in  [https://en.wikipedia.org/wiki/Logic\\_gate](https://en.wikipedia.org/wiki/Logic\\_gate)."
   ]
  },
  {
   "cell_type": "code",
   "execution_count": null,
   "metadata": {},
   "outputs": [],
   "source": [
    "def XOR(x,y):\n",
    "    ################################\n",
    "    ##### YOUR CODE STARTS HERE ####\n",
    "    \n",
    "    assert False,'function not implemented yet'\n",
    "    \n",
    "    ##### YOUR CODE ENDS HERE  #####\n",
    "    ################################\n",
    "    return results\n",
    "print(XOR(x,y))"
   ]
  },
  {
   "cell_type": "markdown",
   "metadata": {},
   "source": [
    "***\n",
    "### Exercise 2: Integrate and Fire neuron model (2.5 pt)\n",
    "\n",
    "Integrate-and-Fire neuron (IAF neuron) accumulates voltage until it reaches the *threshold*. After that it outputs/emits a spike and resets the voltage back to the reset value. In this exercise we will model the behaviour of IAF neurons and study their properties. We will add features and behaviours to our model step by step.\n",
    "\n",
    "You need to complete these TODO-s one by one in the given order and report **ALL** figures, answers, interpretations and conclusions you will make during the work.\n",
    "\n",
    "![title](imgs/raster_plot.png)\n",
    "<p style=\"text-align: center;\"> <b>Figure 1:</b> 10 trials of data generated using Integrate-and-Fire neuron model.</p> "
   ]
  },
  {
   "cell_type": "markdown",
   "metadata": {},
   "source": [
    "#### Adopted from http://math.bu.edu/people/mak/MA665 course materials\n",
    "complete the code, plot and report a figure, give an interpretation, etc.\n",
    "\n",
    "\n",
    "**THEORY:** How do we compute a *numerical solution* to the integrate and fire model?\n",
    "\n",
    "In course materials we had:\n",
    "$C_{memberane}(dV/dt)= I_{Total}$, where $I_{Total} = $ is the sum of $I_l$ (leak current) and $I_{input}$ (current injected to the cell)\n",
    "\n",
    "For solving this equation numerically we first notice that $dV$ is the change in $V$ during timeperiod $dt$, so for any moment in time t:\n",
    "$dV = V(t+dt)-V(t)$\n",
    "\n",
    "For clarity, from here onwards we will count time in units equal to dt, so time t+3 means t+3*dt\n",
    "$dV = V(t+1)-V(t)$\n",
    "\n",
    "From there we to rearrange the differential equation to get the new voltage $V(t+1)$ on the left hand side, and $V(t)$ on the right hand side.  This means that if we know  what's happening at time t, we can calculate what's happening at time $t+1$. Then knowing what happened at $t+1$, we can find $t+2$ and so on. We will calculate V for consequtive timepoints separated by dt.\n",
    "The differential equation for Integrate-and-Fire will become\n",
    "$V(t+1) = V(t) + dt*(I/Cm)$\n",
    "We can use that to predict what the voltage would be at the next moment of time"
   ]
  },
  {
   "cell_type": "code",
   "execution_count": null,
   "metadata": {},
   "outputs": [],
   "source": [
    "# Adding libraries and some backbone functions\n",
    "import numpy\n",
    "import matplotlib.pyplot as plt\n",
    "import numpy as np\n",
    "%matplotlib inline\n",
    "\n",
    "def Plot_line(data,title,xlabel,ylabel):\n",
    "    plt.figure()\n",
    "    plt.title(title)\n",
    "    plt.ylabel(ylabel)\n",
    "    plt.xlabel(xlabel)\n",
    "    plt.plot(data)\n",
    "    plt.show()"
   ]
  },
  {
   "cell_type": "code",
   "execution_count": null,
   "metadata": {},
   "outputs": [],
   "source": [
    "# first, let's set the values for the parameters I (sum total current) and C (capaticy of membrane).\n",
    "# notice we are not talking about units, because its the relative proportion of I and C that matters\n",
    "# this is a common practice, not our laziness.\n",
    "I = 3.0\n",
    "C = 1.0\n",
    "\n",
    "# we also need to set the value for dt. This defines the time step we take\n",
    "#when numerically solving the problem. \n",
    "# If dt is too small we will need to do too many calculations.\n",
    "# If dt is too big, say 10ms, our result is not precise and does not reflect reality because the changes\n",
    "# in membrane potential actually happen a lot faster.\n",
    "# If you are interested try with bigger dt too.. see how it messes up the system, but don't report it.\n",
    "# We'll choose (in seconds):\n",
    "dt = 0.001\n",
    "\n",
    "# we need to set some initial value, so let the voltage at the time 1 to be -70 mV\n",
    "V_init= -70.0\n",
    "\n",
    "#Time in seconds\n",
    "T=1\n",
    "\n",
    "#threshold above which the neuron spikes\n",
    "Vth= -55.0 \n",
    "\n",
    "noise = 1.0\n",
    "\n",
    "V = [0.0] * int(T/dt)\n",
    "V[0] = V_init"
   ]
  },
  {
   "cell_type": "markdown",
   "metadata": {},
   "source": [
    "Now we have an equation and the the value at time 1, we can calculate the value at time 2 and 3\n",
    "1. TODO 1: write how to calculate V(2), given V(1), I and C"
   ]
  },
  {
   "cell_type": "code",
   "execution_count": null,
   "metadata": {},
   "outputs": [],
   "source": [
    "################################\n",
    "##### YOUR CODE STARTS HERE ####\n",
    "# Append V1 to list\n",
    "V[1] = ???\n",
    "\n",
    "##### YOUR CODE ENDS HERE  #####\n",
    "################################"
   ]
  },
  {
   "cell_type": "markdown",
   "metadata": {},
   "source": [
    "2. TODO 2: write how to calculate V(3), given V(2), I and C"
   ]
  },
  {
   "cell_type": "code",
   "execution_count": null,
   "metadata": {},
   "outputs": [],
   "source": [
    "################################\n",
    "##### YOUR CODE STARTS HERE ####\n",
    "\n",
    "#Append V2 to list\n",
    "V[2]= ???\n",
    "\n",
    "##### YOUR CODE ENDS HERE  #####\n",
    "################################"
   ]
  },
  {
   "cell_type": "markdown",
   "metadata": {},
   "source": [
    "Let's say that we want to simulate not 2 or 3 time moment, but a longer period of time, let's say 1 second, for that we need to make 1000 steps (since our dt is 0.001 sec)"
   ]
  },
  {
   "cell_type": "code",
   "execution_count": null,
   "metadata": {},
   "outputs": [],
   "source": [
    "T = 1\n",
    "C = 0.1\n",
    "number_of_steps = T/dt"
   ]
  },
  {
   "cell_type": "markdown",
   "metadata": {},
   "source": [
    "3. TODO 3: write how to calculate V(t+1), given V(t), I and C. Plot what happens and describe (describe in comparison with TODO 4)\n"
   ]
  },
  {
   "cell_type": "code",
   "execution_count": null,
   "metadata": {},
   "outputs": [],
   "source": [
    "def Calculate_V(old_v, I,C,dt):\n",
    "    ################################\n",
    "    ##### YOUR CODE STARTS HERE ####\n",
    "    assert False,'function not implemented yet'\n",
    "    New_V = ???\n",
    "    ##### YOUR CODE ENDS HERE  #####\n",
    "    ################################\n",
    "    return New_V\n"
   ]
  },
  {
   "cell_type": "code",
   "execution_count": null,
   "metadata": {},
   "outputs": [],
   "source": [
    "number_of_spikes=0\n",
    "for timestep in range(1, int(T/dt)):\n",
    "    if False:\n",
    "        V[timestep]=V_init\n",
    "        number_of_spikes=0\n",
    "    else:\n",
    "        V[timestep] = Calculate_V(V[timestep - 1], I, C, dt)"
   ]
  },
  {
   "cell_type": "code",
   "execution_count": null,
   "metadata": {},
   "outputs": [],
   "source": [
    "Plot_line(V,'Figure title','Figure x label', 'Figure y label')"
   ]
  },
  {
   "cell_type": "markdown",
   "metadata": {},
   "source": [
    " <font color='green'>[Describe what happens]</font> "
   ]
  },
  {
   "cell_type": "markdown",
   "metadata": {},
   "source": [
    "4. TODO 4: replace the False with the conditional sentence to check if V(t) is above the threshold level Vth. Plot what happens. Describe, compare.\n"
   ]
  },
  {
   "cell_type": "code",
   "execution_count": null,
   "metadata": {},
   "outputs": [],
   "source": [
    "number_of_spikes=0\n",
    "for timestep in range(1, int(T/dt)):\n",
    "    #your code start\n",
    "    if False:\n",
    "    #your code end\n",
    "        V[timestep]=V_init\n",
    "        number_of_spikes=0\n",
    "    else:\n",
    "        V[timestep] = Calculate_V(V[timestep - 1], I, C, dt)\n",
    "\n",
    "##### YOUR CODE ENDS HERE  #####\n",
    "################################"
   ]
  },
  {
   "cell_type": "code",
   "execution_count": null,
   "metadata": {},
   "outputs": [],
   "source": [
    "Plot_line(V,'Figure title','Figure x label', 'Figure y label')"
   ]
  },
  {
   "cell_type": "markdown",
   "metadata": {},
   "source": [
    " <font color='green'>[Describe what happens and compare to previous task (3rd one)]</font> "
   ]
  },
  {
   "cell_type": "markdown",
   "metadata": {},
   "source": [
    "5. TODO 5: replace the 0 with an expression that would add 1 to `number_of_spikes`. Run the for loop again, report the count with default values.\n"
   ]
  },
  {
   "cell_type": "code",
   "execution_count": null,
   "metadata": {},
   "outputs": [],
   "source": [
    "number_of_spikes=0\n",
    "for timestep in range(1, int(T/dt)):\n",
    "    # You need to update according to TODO 4\n",
    "    if False:  \n",
    "        V[timestep]=V_init\n",
    "        # You need to update according to TODO 5\n",
    "        number_of_spikes=0 \n",
    "    else:\n",
    "        V[timestep] = Calculate_V(V[timestep - 1], I, C, dt)\n",
    "print(number_of_spikes)"
   ]
  },
  {
   "cell_type": "markdown",
   "metadata": {},
   "source": [
    "6. TODO 6: increase the current to 10.0. Plot the behaviour and report the count. Use youre code from previous block and don't forget to reinitialize V vector"
   ]
  },
  {
   "cell_type": "code",
   "execution_count": null,
   "metadata": {},
   "outputs": [],
   "source": [
    "I=10\n",
    "################################\n",
    "##### YOUR CODE STARTS HERE ####\n",
    "\n",
    "\n",
    "##### YOUR CODE ENDS HERE  #####\n",
    "################################"
   ]
  },
  {
   "cell_type": "code",
   "execution_count": null,
   "metadata": {},
   "outputs": [],
   "source": [
    "Plot_line(V,'Figure title','Figure x label', 'Figure y label')"
   ]
  },
  {
   "cell_type": "markdown",
   "metadata": {},
   "source": [
    "7. TODO 7: Try also other currents, observe the spike count (no need to plot Vm(t) for each current). Plot it in your head and/or on a graph. What is the relationship - exponential? logarithmic? linear? less than linear?\n"
   ]
  },
  {
   "cell_type": "code",
   "execution_count": null,
   "metadata": {},
   "outputs": [],
   "source": [
    "################################\n",
    "##### YOUR CODE STARTS HERE ####\n",
    "\n",
    "\n",
    "##### YOUR CODE ENDS HERE  #####\n",
    "################################"
   ]
  },
  {
   "cell_type": "markdown",
   "metadata": {},
   "source": [
    "<font color='green'>[What is the relationship - exponential? logarithmic? linear? less than linear?]</font> \n"
   ]
  },
  {
   "cell_type": "markdown",
   "metadata": {},
   "source": [
    "8. TODO 8: add the term `noise*sqrt(dt)*np.random.randn()` to the V(t+1) equation. This input reflects the fact that neurons always receive random inputs from their neighbours. Observe the noise on Vm plot. Use your code from previous blocks to calculate V using `Calculate_V_with_noise`\n"
   ]
  },
  {
   "cell_type": "code",
   "execution_count": null,
   "metadata": {},
   "outputs": [],
   "source": [
    "def Calculate_V_with_noise(old_v, I,C,dt,the_noise):\n",
    "    ################################\n",
    "    ##### YOUR CODE STARTS HERE ####\n",
    "    assert False,'function not implemented yet'\n",
    "    New_V = ???\n",
    "    ##### YOUR CODE ENDS HERE  #####\n",
    "    ################################\n",
    "    return New_V"
   ]
  },
  {
   "cell_type": "code",
   "execution_count": null,
   "metadata": {},
   "outputs": [],
   "source": [
    "number_of_spikes=0\n",
    "for timestep in range(1, int(T/dt)):\n",
    "    # You need to update according to TODO 4\n",
    "    if False:  \n",
    "        V[timestep]=V_init\n",
    "        # You need to update according to TODO 5\n",
    "        number_of_spikes=0 \n",
    "    else:\n",
    "        V[timestep] = Calculate_V(V[timestep - 1], I, C, dt)\n",
    "print(number_of_spikes)"
   ]
  },
  {
   "cell_type": "code",
   "execution_count": null,
   "metadata": {},
   "outputs": [],
   "source": [
    "Plot_line(V,'Figure title','Figure x label', 'Figure y label')"
   ]
  },
  {
   "cell_type": "markdown",
   "metadata": {},
   "source": [
    "\n",
    "9. TODO 9: Your task is to change the noise level and plot 3 different raster plots (10 trials on each) with different noise levels. Instructions are at the end of the file."
   ]
  },
  {
   "cell_type": "code",
   "execution_count": null,
   "metadata": {},
   "outputs": [],
   "source": [
    "def raster(event_times_list, **kwargs):\n",
    "    \"\"\"\n",
    "    From https://scimusing.wordpress.com/2013/05/06/making-raster-plots-in-python-with-matplotlib/\"\"\"\n",
    "    ax = plt.gca()\n",
    "    for ith, trial in enumerate(event_times_list):\n",
    "        plt.vlines(trial, ith + .5, ith + 1.5, **kwargs)\n",
    "    plt.ylim(.5, len(event_times_list) + .5)\n",
    "    return ax"
   ]
  },
  {
   "cell_type": "code",
   "execution_count": null,
   "metadata": {},
   "outputs": [],
   "source": [
    "##### Experiement with the values ####\n",
    "noise_levels = {0.0:[], 0.0:[], 0.0:[]}\n",
    "#######################################"
   ]
  },
  {
   "cell_type": "code",
   "execution_count": null,
   "metadata": {},
   "outputs": [],
   "source": [
    "C = 0.1\n",
    "dt = 0.001\n",
    "Vinit = -70.0\n",
    "Vth= -55.0 \n",
    "for iter_noise, spikes in noise_levels.items():\n",
    "    for i in range(0, 10):\n",
    "        V = [0.0] * int(T/dt)\n",
    "        V[0] = V_init\n",
    "        I = 10.0\n",
    "        number_of_spikes = []\n",
    "        \n",
    "        for timestep in range(1, int(T/dt)):\n",
    "            timestep_voltage = Calculate_V_with_noise(V[timestep - 1], I, C, dt, iter_noise)\n",
    "            \n",
    "            if timestep_voltage > Vth:\n",
    "                V[timestep] = V_init\n",
    "                number_of_spikes.append(timestep)\n",
    "            else:\n",
    "                V[timestep] = timestep_voltage\n",
    "        spikes.append(number_of_spikes)"
   ]
  },
  {
   "cell_type": "code",
   "execution_count": null,
   "metadata": {},
   "outputs": [],
   "source": [
    "for k in noise_levels.keys():\n",
    "    fig = plt.figure()\n",
    "    ax = raster(noise_levels[k]) \n",
    "    plt.title('Noise level {} spikes'.format(k))\n",
    "    plt.xlabel('Time (ms)')\n",
    "    plt.ylabel('Trial')\n",
    "    plt.show()"
   ]
  },
  {
   "cell_type": "markdown",
   "metadata": {},
   "source": [
    "<font color='green'>[Descripe what you see]</font> "
   ]
  },
  {
   "cell_type": "markdown",
   "metadata": {},
   "source": [
    "***\n",
    "### Exercise 3: Integrate and fire advanced (1.5)\n",
    "\n",
    "In this exercise we will play with somewhat more realistic versions of integrate-and-fire model.\n",
    "\n",
    "In first stage we add a leak current to the neuron. This current is caused by the ion pumps and it drives the membrane potential slowly towards its resting state. In the previous exercise there was no such current - when the input current stops, the potential remains fixed at the current value. With leak current added, the $Vm$ now slowly returns to its resting state at $-70 mV$.\n",
    "\n",
    "Another difference is that beforehand any current, no matter how small, would eventually drive the neuron to spike. In the current exercise however, weak inputs are balanced out by the leak current.\n",
    "Below is the basic code, look at it and understand it for a better grasp of the concept."
   ]
  },
  {
   "cell_type": "code",
   "execution_count": null,
   "metadata": {},
   "outputs": [],
   "source": [
    "# Duration of the whole simulation in sec\n",
    "T = 4\n",
    "dt = 0.001\n",
    "#the strength current we inject to the cell, only lasts 3 seconds of 4 (if clause inside the loop below) \n",
    "I_const = 3.0\n",
    "C = 0.1\n",
    "R = 5\n",
    "\n",
    "V_reset = -75.0\n",
    "V_init = -70.0\n",
    "V_tresh = -55.0\n",
    "\n",
    "def V_leaky_timestep(V_prev, V_init, R, C, dt):\n",
    "    #Vm(i+1) = Vm(i) + dt*(V0 - Vm(i))/(R*C) + (dt*I_const/C);    \n",
    "    return V_prev + dt * (V_init - V_prev)/(R * C)\n",
    "\n",
    "def leaky_integrate(T, dt, I_const, C, R, V_reset, V_init, V_tresh):\n",
    "    V = [0.0] * int(T/dt)\n",
    "    V[0] = V_init\n",
    "    number_of_spikes = 0\n",
    "    \n",
    "    for timestep in range(1, int(T/dt)):\n",
    "        timestep_voltage = V_leaky_timestep(V[timestep - 1], V_init, R, C, dt)\n",
    "        \n",
    "        if timestep < 3000:\n",
    "             timestep_voltage += dt * (I_const/C)\n",
    "        \n",
    "        if timestep_voltage >= V_tresh:\n",
    "            V[timestep] = V_reset\n",
    "            number_of_spikes += 1\n",
    "        else:\n",
    "            V[timestep] = timestep_voltage\n",
    "    \n",
    "    return V, number_of_spikes   "
   ]
  },
  {
   "cell_type": "markdown",
   "metadata": {},
   "source": [
    "**Your task is to:**\n",
    "\n",
    "1.  find the lowest $I_{injected}$ or *I_const* in the code (with 0.1 precision) that leads to a spike. Plot the behaviour at this **I** value and at the value 0.1 below (last one with no spike)."
   ]
  },
  {
   "cell_type": "code",
   "execution_count": null,
   "metadata": {},
   "outputs": [],
   "source": [
    "lowest_spike_current = None\n",
    "voltages = {}\n",
    "#Find the lowest possible current that would lead to at east one spike\n",
    "#You need to change only this parameter\n",
    "\n",
    "##### YOUR CODE STARTS HERE ####\n",
    "I_const= 1.0\n",
    "##### YOUR CODE ENDS HERE  #####\n",
    "V, spike_count = leaky_integrate(T, dt, I_const, C, R, V_reset, V_init, V_tresh)\n",
    "print(spike_count)\n",
    "Plot_line(V,'Membrane potential vs time','time [ms]','Vm(t)  [mV]')\n",
    "\n",
    "#We\n",
    "I_const= I_const-0.1\n",
    "V, spike_count = leaky_integrate(T, dt, I_const, C, R, V_reset, V_init, V_tresh)\n",
    "print(spike_count)\n",
    "Plot_line(V,'Membrane potential vs time','time [ms]','Vm(t)  [mV]')"
   ]
  },
  {
   "cell_type": "markdown",
   "metadata": {},
   "source": [
    "<font color='green'>[Describe what happens. Describe also what happens after the stimulus is turned off.]</font> "
   ]
  },
  {
   "cell_type": "markdown",
   "metadata": {},
   "source": [
    "2. How does firing rate (spikes per second) differ at I = 5.0, 10.0, 25.0, 50.0 with and without (results in TODO 7 in previous exercise) leak current? \n"
   ]
  },
  {
   "cell_type": "code",
   "execution_count": null,
   "metadata": {},
   "outputs": [],
   "source": [
    "################################\n",
    "##### YOUR CODE STARTS HERE ####\n",
    "\n",
    "\n",
    "\n",
    "##### YOUR CODE ENDS HERE  #####\n",
    "################################"
   ]
  },
  {
   "cell_type": "markdown",
   "metadata": {},
   "source": [
    "**In the second stage** we explore the neuron's behaviour if it receives input from incoming (*presynaptic*) spikes rather than constant injected current. Even though one incoming signal is not enough to activate our neuron, *temporal summation* of inputs happening in a short period of time can lead to the voltage reaching the threshold. The code you need to understand and modify is provided below."
   ]
  },
  {
   "cell_type": "code",
   "execution_count": null,
   "metadata": {},
   "outputs": [],
   "source": [
    "def synapse_current(eff, spike_strength = 70.0):\n",
    "    \"\"\"\n",
    "    spike_strength:this will modify how strong the effect of spikes are\n",
    "    \"\"\"\n",
    "    # Constant parameters\n",
    "    #duration of simulation in sec\n",
    "    T = 0.6\n",
    "    dt = 0.001\n",
    "    #we are looking into synapses, so no injected current\n",
    "    I_const = 0.0\n",
    "    #Capacity\n",
    "    C = 0.1\n",
    "    #Resistance\n",
    "    R = 1\n",
    "    #reset potential in mV\n",
    "    V_reset = -75.0\n",
    "    #resting potential in mV\n",
    "    V_init = -70.0\n",
    "    #the neuron threshold\n",
    "    V_tresh = -55.0\n",
    "    \n",
    "    tc = -100000\n",
    "    #this defines the shape of the spike (how long the tail is)\n",
    "    taus = 5\n",
    "\n",
    "    V = [0.0] * int(T/dt)\n",
    "    V[0] = V_init\n",
    "\n",
    "    I_synapse = [0.0] * int(T/dt)\n",
    "    I_synapse[0] = 0\n",
    "\n",
    "    for timestep in range(1, int(T/dt)):\n",
    "        seps = 0\n",
    "        #The following has to do with shape of incoming current caused by spikes\n",
    "        for f in eff:\n",
    "            eps = 0\n",
    "            if tc <= f and f <= timestep:\n",
    "                eps = np.exp(-(timestep - f)/(R*C)) - np.exp(-(timestep - f)/taus)            \n",
    "            if f < tc and tc <= timestep:\n",
    "                eps = np.exp(-(tc - f)/taus)*(np.exp(-(timestep - tc)/(R*C)) - np.exp(-(timestep - tc)/taus))\n",
    "            seps += eps\n",
    "        #end of spike current calculation\n",
    "        \n",
    "        I_synapse[timestep] = spike_strength * 1/(1-taus/(R*C))*seps\n",
    "        V_prev = V[timestep - 1]\n",
    "                          \n",
    "        if V_prev >= V_tresh:\n",
    "            tc = timestep\n",
    "            V[timestep] = V_reset\n",
    "        else:\n",
    "            V[timestep] = V_prev + dt*(V_init - V_prev)/(R*C) + (dt*I_const/C) + spike_strength * 1/(1-taus/(R*C))*seps\n",
    "            \n",
    "    return V, I_synapse"
   ]
  },
  {
   "cell_type": "markdown",
   "metadata": {},
   "source": [
    "For this task you have to remember that if a neuron gets enough excitatory input in a short period of time, it will activate. The same amount of inputs dispersed over a longer period will not lead to firing. Your task is again to modify code near the *TODO* signs and to answer some questions:\n",
    "1. The neuron only receives one incoming spike at t=300ms. Plot the membrane potential and the strength of the synaptic current in time."
   ]
  },
  {
   "cell_type": "code",
   "execution_count": null,
   "metadata": {},
   "outputs": [],
   "source": [
    "eff = [300]\n",
    "\n",
    "V, I = synapse_current(eff, 70.0)\n",
    "Plot_line(I,'Strength of the synaptic current','Time(m)','Current')\n",
    "Plot_line(V,'Membrane potential','Time(m)','Voltage')"
   ]
  },
  {
   "cell_type": "markdown",
   "metadata": {},
   "source": [
    "     - Describe how membrane potential and strength of current change over time (peak values, shape)."
   ]
  },
  {
   "cell_type": "markdown",
   "metadata": {},
   "source": [
    "<font color='green'>[Your Answer]</font> "
   ]
  },
  {
   "cell_type": "markdown",
   "metadata": {},
   "source": [
    "    - How long does it take for the current to decrease by half (half-life)? How is that related to the \"taus\" parameter?"
   ]
  },
  {
   "cell_type": "code",
   "execution_count": null,
   "metadata": {},
   "outputs": [],
   "source": [
    "################################\n",
    "##### YOUR CODE STARTS HERE ####\n",
    "\n",
    "\n",
    "\n",
    "##### YOUR CODE ENDS HERE  #####\n",
    "################################"
   ]
  },
  {
   "cell_type": "markdown",
   "metadata": {},
   "source": [
    "<font color='green'>[Your Answer]</font> "
   ]
  },
  {
   "cell_type": "markdown",
   "metadata": {},
   "source": [
    "    - Modify the strength of the synaptic current up to a point where one presynaptic spike is enough to produce a postsynaptic spike."
   ]
  },
  {
   "cell_type": "code",
   "execution_count": null,
   "metadata": {},
   "outputs": [],
   "source": [
    "################################\n",
    "##### YOUR CODE STARTS HERE ####\n",
    "\n",
    "\n",
    "##### YOUR CODE ENDS HERE  #####\n",
    "################################\n",
    "Plot_line(V,'Membrane potential','Time(m)','Voltage')"
   ]
  },
  {
   "cell_type": "markdown",
   "metadata": {},
   "source": [
    "2. TODO 2: the neuron will receive a spike every 50ms. Nevertheless it never fires. Why?"
   ]
  },
  {
   "cell_type": "code",
   "execution_count": null,
   "metadata": {},
   "outputs": [],
   "source": [
    "eff_2 = [50, 100, 150, 200, 250, 300, 350, 400, 450, 500, 550]\n",
    "\n",
    "V, I = synapse_current(eff_2)\n",
    "Plot_line(V,'Membrane potential','Time(m)','Voltage')"
   ]
  },
  {
   "cell_type": "markdown",
   "metadata": {},
   "source": [
    "<font color='green'>[Your Answer]</font> "
   ]
  },
  {
   "cell_type": "markdown",
   "metadata": {},
   "source": [
    "3. TODO 3: Replace **t3** (time of third spike) with a number bigger than 101. What is the lowest value for t3 so that the receiving neuron does not emit a spike?"
   ]
  },
  {
   "cell_type": "code",
   "execution_count": null,
   "metadata": {},
   "outputs": [],
   "source": [
    "################################\n",
    "##### YOUR CODE STARTS HERE ####\n",
    "eff_3 = [100, 101, t3]\n",
    "\n",
    "##### YOUR CODE ENDS HERE  #####\n",
    "################################\n",
    "\n",
    "V, I = synapse_current(eff_3)\n",
    "Plot_line(V,'Membrane potential','Time(m)','Voltage')"
   ]
  },
  {
   "cell_type": "markdown",
   "metadata": {},
   "source": [
    "***\n",
    "### Exercise 4: Hodgkin-Huxley neuron model (1.5)\n",
    "\n",
    "Hodgkin-Huxley model is considered to be the most important computational neuronal model in the neuroscience today. We have the model already implemented. Follow the instructions  and report all thoughts, interpretations and conclusions you will have during the work."
   ]
  },
  {
   "cell_type": "code",
   "execution_count": null,
   "metadata": {},
   "outputs": [],
   "source": [
    "# Hodgkin-Huxley equations.\n",
    "# See Gerstner and Kistler, Spiking Neuron Models, 2002, Section 2.2.\n",
    "# You'll see I've scaled the voltage by 65 in the equation that updates V\n",
    "# and the auxillary functions.  Hodgkin and Huxley set the resting voltage\n",
    "# of the neuron to 0 mV and we've set it here to -65 mV (the value accepted\n",
    "# today).\n",
    "\n",
    "# INPUTS\n",
    "#    I0 = input current.\n",
    "#    T0 = total time to simulate (in [ms]).\n",
    "#\n",
    "# OUTPUTS\n",
    "#    V = the voltage of neuron.\n",
    "#    m = activation variable for Na-current.\n",
    "#    h = inactivation variable for Na-current.\n",
    "#    n = activation variable for K-current.\n",
    "#    t = the time axis of the simulation (useful for plotting)\n",
    "import math\n",
    "\n",
    "\n",
    "def HH0(I0, T0):\n",
    "\n",
    "    dt = 0.01\n",
    "    T = int(np.ceil(T0/dt))\n",
    "    gNa = 120\n",
    "    ENa = 115\n",
    "    gK = 36\n",
    "    EK = -12\n",
    "    gL = 0.3\n",
    "    ERest = 10.6\n",
    "\n",
    "    t = list(map((lambda x: x * dt), range(1, T+1)))\n",
    "    V = np.zeros((T, 1))\n",
    "    m = np.zeros((T, 1))\n",
    "    h = np.zeros((T, 1))\n",
    "    n = np.zeros((T, 1))\n",
    "\n",
    "    V[0] = -70\n",
    "    m[0] = 0.05\n",
    "    h[0] = 0.54\n",
    "    n[0] = 0.34\n",
    "\n",
    "    for i in range(T-1):\n",
    "        V[i+1] = V[i] + dt * (gNa * m[i] ** 3 * h[i] * (ENa - (V[i] + 65))   \n",
    "                + gK * n[i] ** 4 * (EK - (V[i] + 65)) + gL * (ERest - (V[i] + 65)) + I0)\n",
    "        m[i+1] = m[i] + dt * (alphaM(V[i]) * (1 - m[i]) - betaM(V[i]) * m[i])\n",
    "        h[i+1] = h[i] + dt * (alphaH(V[i]) * (1 - h[i]) - betaH(V[i]) * h[i])\n",
    "        n[i+1] = n[i] + dt * (alphaN(V[i]) * (1 - n[i]) - betaN(V[i]) * n[i])\n",
    "\n",
    "    return V, m, h, n, t\n",
    "\n",
    "def alphaM(V):\n",
    "    aM = (2.5 - 0.1 * (V + 65)) / (math.exp(2.5 - 0.1 * (V + 65)) - 1)\n",
    "    return aM\n",
    "\n",
    "def betaM(V):\n",
    "    bM = 4 * math.exp(-(V + 65) / 18)\n",
    "    return bM\n",
    "\n",
    "def alphaH(V):\n",
    "    aH = 0.07 * math.exp(-(V + 65) / 20)\n",
    "    return aH\n",
    "\n",
    "def betaH(V):\n",
    "    bH = 1. / (math.exp(3.0 - 0.1 * (V + 65)) + 1)\n",
    "    return bH\n",
    "\n",
    "def alphaN(V):\n",
    "    aN = (0.1 - 0.01 * (V + 65)) / (math.exp(1 - 0.1 * (V + 65)) - 1)\n",
    "    return aN\n",
    "\n",
    "def betaN(V):\n",
    "    bN = 0.125 * math.exp(-(V + 65) / 80)\n",
    "    return bN\n"
   ]
  },
  {
   "cell_type": "markdown",
   "metadata": {},
   "source": [
    "1) Explain the nature of m, h and n in terms of Na+ and K+ ion channels being open or closed (discussed in lecture).\n"
   ]
  },
  {
   "cell_type": "markdown",
   "metadata": {},
   "source": [
    " <font color='green'>Your answer</font> "
   ]
  },
  {
   "cell_type": "markdown",
   "metadata": {},
   "source": [
    "2) Plot the voltage respect to time for I0=5.0. Modify I0 and report the lowest I0 that still causes a spike in the beginning of simulation. Also plot the lowest I0 that causes continuous spiking till the end of simulation. (Precision of your answer should be at least 0.1)"
   ]
  },
  {
   "cell_type": "code",
   "execution_count": null,
   "metadata": {},
   "outputs": [],
   "source": [
    "I0 = 5;\n",
    "T0 = 400; #duration in ms\n",
    "\n",
    "################################\n",
    "##### YOUR CODE STARTS HERE ####\n",
    "    \n",
    "    \n",
    "##### YOUR CODE ENDS HERE  #####\n",
    "################################"
   ]
  },
  {
   "cell_type": "markdown",
   "metadata": {},
   "source": [
    " <font color='green'>Your answer</font> "
   ]
  },
  {
   "cell_type": "markdown",
   "metadata": {},
   "source": [
    "3) Count the number of spikes at different I0 values (code provided). **Note that** this series of simulations can take up to 5-10 min, do not panic if it takes time. Describe what you see. Why this *input-output curve* is more biologically realistic than the input-output relation of IAF? How is the non-linearity of the relationship related to modelling the ion channels and not simply resetting the membrane potential instantaneously as soon as threshold is reached? "
   ]
  },
  {
   "cell_type": "code",
   "execution_count": null,
   "metadata": {},
   "outputs": [],
   "source": [
    "T0 = 500\n",
    "currents = [3, 4, 5, 6, 6.1, 6.2, 6.3, 6.4, 6.5 , 6.6, 6.7, 6.8, 6.9, 7.0, 8, 9, 10, 11, 12, 13, 14, 15]\n",
    "spikes = np.zeros(len(currents))\n",
    "for i in range (len(currents)):\n",
    "    I0 = currents [i]\n",
    "    V, m, h, n, t = HH0(I0,T0)\n",
    "    count = 0 # count spikes\n",
    "    for j in range(len(V)):\n",
    "        if V[j] > 0:\n",
    "            count += 1\n",
    "            V[j:j+300] = -70.0\n",
    "    spikes [i] = count\n",
    "plt. plot ( currents , spikes )\n",
    "plt. xlabel ('Current')\n",
    "plt. ylabel ('Number of spikes')\n",
    "plt. show ()"
   ]
  },
  {
   "cell_type": "markdown",
   "metadata": {},
   "source": [
    " <font color='green'>Your answer</font> "
   ]
  }
 ],
 "metadata": {
  "kernelspec": {
   "display_name": "Python 3",
   "language": "python",
   "name": "python3"
  },
  "language_info": {
   "codemirror_mode": {
    "name": "ipython",
    "version": 3
   },
   "file_extension": ".py",
   "mimetype": "text/x-python",
   "name": "python",
   "nbconvert_exporter": "python",
   "pygments_lexer": "ipython3",
   "version": "3.7.0"
  }
 },
 "nbformat": 4,
 "nbformat_minor": 2
}
